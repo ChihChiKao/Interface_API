{
 "cells": [
  {
   "cell_type": "code",
   "execution_count": 1,
   "metadata": {},
   "outputs": [],
   "source": [
    "import requests\n",
    "from bs4 import BeautifulSoup\n",
    "import pandas as pd\n",
    "import datetime  \n",
    "import time\n",
    "from hashlib import sha1\n",
    "import hmac\n",
    "from wsgiref.handlers import format_date_time\n",
    "from datetime import datetime\n",
    "from time import mktime\n",
    "import base64"
   ]
  },
  {
   "cell_type": "code",
   "execution_count": 2,
   "metadata": {},
   "outputs": [],
   "source": [
    "app_id = '2d16769d481b4ab69ec6ecb0ccd0672b'\n",
    "app_key = 'dbr3zEbzwX8cj1Yv7ZxGzb4IpAc'\n",
    "class Auth():\n",
    "\n",
    "    def __init__(self, app_id, app_key):\n",
    "        self.app_id = app_id\n",
    "        self.app_key = app_key\n",
    "\n",
    "    def get_auth_header(self):\n",
    "        xdate = format_date_time(mktime(datetime.now().timetuple()))\n",
    "        hashed = hmac.new(self.app_key.encode('utf8'), ('x-date: ' + xdate).encode('utf8'), sha1)\n",
    "        signature = base64.b64encode(hashed.digest()).decode()\n",
    "\n",
    "        authorization = 'hmac username=\"' + self.app_id + '\", ' + \\\n",
    "                        'algorithm=\"hmac-sha1\", ' + \\\n",
    "                        'headers=\"x-date\", ' + \\\n",
    "                        'signature=\"' + signature + '\"'\n",
    "        return {\n",
    "            'Authorization': authorization,\n",
    "            'x-date': format_date_time(mktime(datetime.now().timetuple())),\n",
    "            'Accept - Encoding': 'gzip'\n",
    "        }"
   ]
  },
  {
   "cell_type": "code",
   "execution_count": 7,
   "metadata": {},
   "outputs": [],
   "source": [
    "a = Auth(app_id, app_key)\n",
    "r=requests.get(\"https://ptx.transportdata.tw/MOTC/v2/Bus/Stop/InterCity?$format=xml\", headers= a.get_auth_header())\n",
    "r.close()\n",
    "\n",
    "soup = BeautifulSoup(r.text, \"html.parser\")\n",
    "#print(soup.prettify())\n",
    "stopuid = [stopuid.text for stopuid in soup.find_all('stopuid')]\n",
    "\n",
    "stopid = [stopid.text for stopid in soup.find_all('stopid')]\n",
    "\n",
    "authorityid = [authorityid.text for authorityid in soup.find_all('authorityid')]\n",
    "\n",
    "busstop_zh_tw = [zh_tw.text for zh_tw in soup.find_all('zh_tw')]\n",
    "\n",
    "busstop_En = [en.text for en in soup.find_all('en')]\n",
    "\n",
    "positionlat = [positionlat.text for positionlat in soup.find_all('positionlat')]\n",
    "\n",
    "positionlon = [positionlon.text for positionlon in soup.find_all('positionlon')]\n",
    "\n",
    "geohash = [geohash.text for geohash in soup.find_all('geohash')]\n",
    "\n",
    "stopaddress = [stopaddress.text for stopaddress in soup.find_all('stopaddress')]\n",
    "\n",
    "bearing = [bearing.text for bearing in soup.find_all('bearing')]\n",
    "\n",
    "stationid = [stationid.text for stationid in soup.find_all('stationid')]\n",
    "\n",
    "stationgroupid = [stationgroupid.text for stationgroupid in soup.find_all('stationgroupid')]\n",
    "\n",
    "locationcitycode = [locationcitycode.text for locationcitycode in soup.find_all('locationcitycode')]\n",
    "\n",
    "updatetime = [updatetime.text for updatetime in soup.find_all('updatetime')]\n",
    "\n",
    "versionid = [versionid.text for versionid in soup.find_all('versionid')]\n",
    "\n",
    "Busstop={'站牌唯一識別代碼':stopuid,'地區既用中之站牌代碼':stopid,'業管機關代碼':authorityid\n",
    "    ,\"站牌中文名稱\":busstop_zh_tw ,\"站牌英文名稱\":busstop_En,\"站牌緯度(WGS84)\":positionlat,\"站牌經度(WGS84)\":positionlon\n",
    "    ,\"地理空間編碼\":geohash,\"站牌地址\":stopaddress,\"方位角\":bearing,\"站牌所屬的站位ID\":stationid\n",
    "    ,\"站牌所屬的組站位ID\":stationgroupid,\"站牌位置縣市之代碼\":locationcitycode\n",
    "    ,\"資料更新日期時間\":updatetime,\"資料版本編號\":versionid}\n",
    "#print(Bus_information)\n",
    "df = pd.DataFrame.from_dict(Busstop, orient='index')\n",
    "df=df.transpose()#把欄位顛倒過來\n",
    "\n",
    "#Bus_information=pd.concat([Bus_information,df])\n",
    "#df.to_csv(r'C:\\Users\\bus_'+city+'.csv', index=False,encoding=\"utf_8_sig\" )\n",
    "#Bus_information.to_csv(r'C:\\Users\\bus.csv', index=False,encoding=\"utf_8_sig\" )"
   ]
  },
  {
   "cell_type": "code",
   "execution_count": 9,
   "metadata": {},
   "outputs": [],
   "source": [
    "df.to_csv(r'C:\\Users\\公路客運之站牌資料.csv', index=False,encoding=\"utf_8_sig\" )"
   ]
  },
  {
   "cell_type": "code",
   "execution_count": null,
   "metadata": {},
   "outputs": [],
   "source": []
  }
 ],
 "metadata": {
  "kernelspec": {
   "display_name": "Python 3",
   "language": "python",
   "name": "python3"
  },
  "language_info": {
   "codemirror_mode": {
    "name": "ipython",
    "version": 3
   },
   "file_extension": ".py",
   "mimetype": "text/x-python",
   "name": "python",
   "nbconvert_exporter": "python",
   "pygments_lexer": "ipython3",
   "version": "3.8.6"
  }
 },
 "nbformat": 4,
 "nbformat_minor": 2
}
