{
 "cells": [
  {
   "cell_type": "code",
   "execution_count": 1,
   "metadata": {},
   "outputs": [],
   "source": [
    "import requests\n",
    "from bs4 import BeautifulSoup\n",
    "import pandas as pd\n",
    "import datetime  \n",
    "import time\n",
    "from hashlib import sha1\n",
    "import hmac\n",
    "from wsgiref.handlers import format_date_time\n",
    "from datetime import datetime\n",
    "from time import mktime\n",
    "import base64"
   ]
  },
  {
   "cell_type": "code",
   "execution_count": 2,
   "metadata": {},
   "outputs": [],
   "source": [
    "app_id = '2d16769d481b4ab69ec6ecb0ccd0672b'\n",
    "app_key = 'dbr3zEbzwX8cj1Yv7ZxGzb4IpAc'\n",
    "class Auth():\n",
    "\n",
    "    def __init__(self, app_id, app_key):\n",
    "        self.app_id = app_id\n",
    "        self.app_key = app_key\n",
    "\n",
    "    def get_auth_header(self):\n",
    "        xdate = format_date_time(mktime(datetime.now().timetuple()))\n",
    "        hashed = hmac.new(self.app_key.encode('utf8'), ('x-date: ' + xdate).encode('utf8'), sha1)\n",
    "        signature = base64.b64encode(hashed.digest()).decode()\n",
    "\n",
    "        authorization = 'hmac username=\"' + self.app_id + '\", ' + \\\n",
    "                        'algorithm=\"hmac-sha1\", ' + \\\n",
    "                        'headers=\"x-date\", ' + \\\n",
    "                        'signature=\"' + signature + '\"'\n",
    "        return {\n",
    "            'Authorization': authorization,\n",
    "            'x-date': format_date_time(mktime(datetime.now().timetuple())),\n",
    "            'Accept - Encoding': 'gzip'\n",
    "        }"
   ]
  },
  {
   "cell_type": "code",
   "execution_count": 3,
   "metadata": {
    "scrolled": true
   },
   "outputs": [
    {
     "name": "stdout",
     "output_type": "stream",
     "text": [
      "NewTaipei\n",
      "Taoyuan\n",
      "Taichung\n",
      "Tainan\n",
      "Kaohsiung\n",
      "Keelung\n",
      "Hsinchu\n",
      "HsinchuCounty\n",
      "MiaoliCounty\n",
      "ChanghuaCounty\n",
      "NantouCounty\n",
      "YunlinCounty\n",
      "ChiayiCounty\n",
      "Chiayi\n",
      "PingtungCounty\n",
      "YilanCounty\n",
      "HualienCounty\n",
      "TaitungCounty\n",
      "KinmenCounty\n",
      "PenghuCounty\n",
      "LienchiangCounty\n",
      "Taipei\n"
     ]
    }
   ],
   "source": [
    "city=['NewTaipei','Taoyuan','Taichung','Tainan','Kaohsiung','Keelung','Hsinchu','HsinchuCounty','MiaoliCounty','ChanghuaCounty'\n",
    ",'NantouCounty','YunlinCounty','ChiayiCounty','Chiayi','PingtungCounty','YilanCounty','HualienCounty','TaitungCounty'\n",
    ",'KinmenCounty','PenghuCounty','LienchiangCounty','Taipei']\n",
    "Bike_information=pd.DataFrame(columns = ['站點唯一識別代碼','站點代碼','業管單位代碼',\"站點中文名稱\",\"站點英文名稱\"\n",
    "                                         ,'位置緯度(WGS84)','位置經度(WGS84)',\"地理空間編碼\",\"站牌中文地址\",\"站牌英文地址\"\n",
    "                                         ,\"可容納之自行車總數\",\"資料版本編號\",'資料更新日期時間'])\n",
    "for j in city:\n",
    "    print(j)\n",
    "    a = Auth(app_id, app_key)\n",
    "    r=requests.get(\"https://ptx.transportdata.tw/MOTC/v2/Bike/Station/\"+str(j)+\"?$format=xml\", headers= a.get_auth_header())\n",
    "    r.close()\n",
    "    soup = BeautifulSoup(r.text, \"html.parser\")\n",
    "    #for i in soup.find_all('bikestation'): #每次跑一個站的資料\n",
    "    #print(soup.prettify())\n",
    "    #print(j)\n",
    "    #for j in i.find_all(\"stops\"):\n",
    "    stationuid = [stationuid.text for stationuid in soup.find_all('stationuid')]\n",
    "    stationid = [stationid.text for stationid in soup.find_all('stationid')]\n",
    "    authorityid = [authorityid.text for authorityid in soup.find_all('authorityid')]\n",
    "    StopName_zh_tw = [i.zh_tw.text for i in soup.find_all('stationname')]\n",
    "    StopName_En = [en.text for en in soup.find_all('stationname')]\n",
    "    PositionLat = [positionlat.text for positionlat in soup.find_all('positionlat')]\n",
    "    PositionLon = [positionlon.text for positionlon in soup.find_all('positionlon')]\n",
    "    GeoHash = [geohash.text for geohash in soup.find_all('geohash')]\n",
    "    try:\n",
    "        stationaddress_zh_tw = [i.zh_tw.text for i in soup.find_all('stationaddress')]\n",
    "    except AttributeError:\n",
    "        stationaddress_zh_tw=[]\n",
    "    try:  \n",
    "        stationaddress_En = [i.en.text for i in soup.find_all('stationaddress')]\n",
    "    except AttributeError:\n",
    "        stationaddress_En=[]\n",
    "    bikescapacity = [bikescapacity.text for bikescapacity in soup.find_all('bikescapacity')]\n",
    "    srcupdatetime = [srcupdatetime.text for srcupdatetime in soup.find_all('srcupdatetime')]\n",
    "    UpdateTime = [updatetime.text for updatetime in soup.find_all('updatetime')]\n",
    "    #VersionID = [versionid.text for versionid in i.find_all('versionid')]\n",
    "    #print(authorityid)\n",
    "    Bike={'站點唯一識別代碼':stationuid,'站點代碼':stationid,'業管單位代碼':authorityid\n",
    "        ,\"站點中文名稱\":StopName_zh_tw,\"站點英文名稱\":StopName_En,'位置緯度(WGS84)':PositionLat\n",
    "        ,'位置經度(WGS84)':PositionLon,\"地理空間編碼\":GeoHash,\"站牌中文地址\":stationaddress_zh_tw\n",
    "        ,\"站牌英文地址\":stationaddress_En,\"可容納之自行車總數\":bikescapacity\n",
    "        ,\"資料版本編號\":srcupdatetime,'資料更新日期時間':UpdateTime}\n",
    "    \n",
    "    Bike = pd.DataFrame.from_dict(Bike, orient='index')\n",
    "    Bike=Bike.transpose()#把欄位顛倒過來\n",
    "    Bike_information=Bike_information.append(Bike)\n",
    "    #print(stationaddress_En)\n",
    "    #break\n",
    "    time.sleep(5)\n"
   ]
  },
  {
   "cell_type": "code",
   "execution_count": 4,
   "metadata": {},
   "outputs": [],
   "source": [
    "Bike_information.to_csv(r'C:\\Users\\公共自行車租借站位資料.csv', index=False,encoding=\"utf_8_sig\" )"
   ]
  },
  {
   "cell_type": "code",
   "execution_count": null,
   "metadata": {},
   "outputs": [],
   "source": []
  }
 ],
 "metadata": {
  "kernelspec": {
   "display_name": "Python 3",
   "language": "python",
   "name": "python3"
  },
  "language_info": {
   "codemirror_mode": {
    "name": "ipython",
    "version": 3
   },
   "file_extension": ".py",
   "mimetype": "text/x-python",
   "name": "python",
   "nbconvert_exporter": "python",
   "pygments_lexer": "ipython3",
   "version": "3.8.6"
  }
 },
 "nbformat": 4,
 "nbformat_minor": 2
}
