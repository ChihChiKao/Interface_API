{
 "cells": [
  {
   "cell_type": "code",
   "execution_count": 1,
   "metadata": {},
   "outputs": [],
   "source": [
    "import requests\n",
    "from bs4 import BeautifulSoup\n",
    "import pandas as pd\n",
    "import datetime  \n",
    "import time\n",
    "from hashlib import sha1\n",
    "import hmac\n",
    "from wsgiref.handlers import format_date_time\n",
    "from datetime import datetime\n",
    "from time import mktime\n",
    "import base64"
   ]
  },
  {
   "cell_type": "code",
   "execution_count": 2,
   "metadata": {},
   "outputs": [],
   "source": [
    "app_id = '2d16769d481b4ab69ec6ecb0ccd0672b'\n",
    "app_key = 'dbr3zEbzwX8cj1Yv7ZxGzb4IpAc'\n",
    "class Auth():\n",
    "\n",
    "    def __init__(self, app_id, app_key):\n",
    "        self.app_id = app_id\n",
    "        self.app_key = app_key\n",
    "\n",
    "    def get_auth_header(self):\n",
    "        xdate = format_date_time(mktime(datetime.now().timetuple()))\n",
    "        hashed = hmac.new(self.app_key.encode('utf8'), ('x-date: ' + xdate).encode('utf8'), sha1)\n",
    "        signature = base64.b64encode(hashed.digest()).decode()\n",
    "\n",
    "        authorization = 'hmac username=\"' + self.app_id + '\", ' + \\\n",
    "                        'algorithm=\"hmac-sha1\", ' + \\\n",
    "                        'headers=\"x-date\", ' + \\\n",
    "                        'signature=\"' + signature + '\"'\n",
    "        return {\n",
    "            'Authorization': authorization,\n",
    "            'x-date': format_date_time(mktime(datetime.now().timetuple())),\n",
    "            'Accept - Encoding': 'gzip'\n",
    "        }"
   ]
  },
  {
   "cell_type": "code",
   "execution_count": 4,
   "metadata": {
    "scrolled": true
   },
   "outputs": [
    {
     "name": "stdout",
     "output_type": "stream",
     "text": [
      "NewTaipei\n",
      "Taoyuan\n",
      "Taichung\n",
      "Tainan\n",
      "Kaohsiung\n",
      "Keelung\n",
      "Hsinchu\n",
      "HsinchuCounty\n",
      "MiaoliCounty\n",
      "ChanghuaCounty\n",
      "NantouCounty\n",
      "YunlinCounty\n",
      "ChiayiCounty\n",
      "Chiayi\n",
      "PingtungCounty\n",
      "YilanCounty\n",
      "HualienCounty\n",
      "TaitungCounty\n",
      "KinmenCounty\n",
      "PenghuCounty\n",
      "LienchiangCounty\n",
      "Taipei\n"
     ]
    }
   ],
   "source": [
    "city=['NewTaipei','Taoyuan','Taichung','Tainan','Kaohsiung','Keelung','Hsinchu','HsinchuCounty','MiaoliCounty','ChanghuaCounty'\n",
    ",'NantouCounty','YunlinCounty','ChiayiCounty','Chiayi','PingtungCounty','YilanCounty','HualienCounty','TaitungCounty'\n",
    ",'KinmenCounty','PenghuCounty','LienchiangCounty','Taipei']\n",
    "Bike_allshape=pd.DataFrame(columns = ['路線名稱','業管機關名稱','路線所在縣市代碼',\"路線所在縣市名稱\"\n",
    "                                   ,\"路線所在鄉鎮名稱\",'路線起點描述','路線迄點描述',\"自行車道車行方向\"\n",
    "                                   ,\"自行車道長度\",\"自行車道完工日期時間\",\"資料更新日期時間\",'路線軌跡資料'])\n",
    "for j in city:\n",
    "    print(j)\n",
    "    a = Auth(app_id, app_key)\n",
    "    r=requests.get(\"https://ptx.transportdata.tw/MOTC/v2/Cycling/Shape/\"+str(j)+\"?$format=xml\", headers= a.get_auth_header())\n",
    "    r.close()\n",
    "    soup = BeautifulSoup(r.text, \"html.parser\")\n",
    "    #for i in soup.find_all('busstation'): #每次跑一個站的資料\n",
    "    #print(soup.prettify())\n",
    "        #print(j)\n",
    "    #print(j)\n",
    "    #for j in i.find_all(\"stops\"):\n",
    "    routename = [routename.text for routename in soup.find_all('routename')]\n",
    "    authorityname = [authorityname.text for authorityname in soup.find_all('authorityname')]\n",
    "    citycode = [citycode.text for citycode in soup.find_all('citycode')]\n",
    "    city = [i.text for i in soup.find_all('city')]\n",
    "    town = [town.text for town in soup.find_all('town')]\n",
    "    roadsectionstart = [roadsectionstart.text for roadsectionstart in soup.find_all('roadsectionstart')]\n",
    "    roadsectionend = [roadsectionend.text for roadsectionend in soup.find_all('roadsectionend')]\n",
    "    Direction = [direction.text for direction in soup.find_all('direction')]\n",
    "    \n",
    "    cyclinglength = [cyclinglength.text for cyclinglength in soup.find_all('cyclinglength')]\n",
    "    finishedtime = [i.text for i in soup.find_all('finishedtime')]\n",
    "    updatetime = [i.text for i in soup.find_all('updatetime')]\n",
    "    geometry = [geometry.text for geometry in soup.find_all('geometry')]\n",
    "    #srcupdatetime = [srcupdatetime.text for srcupdatetime in soup.find_all('srcupdatetime')]\n",
    "    #UpdateTime = [updatetime.text for updatetime in soup.find_all('updatetime')]\n",
    "    #VersionID = [versionid.text for versionid in i.find_all('versionid')]\n",
    "\n",
    "    Bike_shape={'路線名稱':routename,'業管機關名稱':authorityname,'路線所在縣市代碼':citycode\n",
    "        ,\"路線所在縣市名稱\":city,\"路線所在鄉鎮名稱\":town,'路線起點描述':roadsectionstart\n",
    "        ,'路線迄點描述':roadsectionend,\"自行車道車行方向\":Direction,\"自行車道長度\":cyclinglength\n",
    "        ,\"自行車道完工日期時間\":finishedtime,\"資料更新日期時間\":updatetime,'路線軌跡資料':geometry}\n",
    "    #print(Bus_information)\n",
    "    Bike_shape = pd.DataFrame.from_dict(Bike_shape, orient='index')\n",
    "    Bike_shape=Bike_shape.transpose()#把欄位顛倒過來\n",
    "    Bike_allshape=Bike_allshape.append(Bike_shape)\n",
    "    time.sleep(5)\n",
    "    #print(Bike_shape)\n",
    "    #break"
   ]
  },
  {
   "cell_type": "code",
   "execution_count": 5,
   "metadata": {},
   "outputs": [],
   "source": [
    "Bike_allshape.to_csv(r'C:\\Users\\指定縣市之自行車道路網圖資.txt', index=False,encoding=\"utf_8_sig\" )"
   ]
  },
  {
   "cell_type": "code",
   "execution_count": null,
   "metadata": {},
   "outputs": [],
   "source": []
  }
 ],
 "metadata": {
  "kernelspec": {
   "display_name": "Python 3",
   "language": "python",
   "name": "python3"
  },
  "language_info": {
   "codemirror_mode": {
    "name": "ipython",
    "version": 3
   },
   "file_extension": ".py",
   "mimetype": "text/x-python",
   "name": "python",
   "nbconvert_exporter": "python",
   "pygments_lexer": "ipython3",
   "version": "3.8.6"
  }
 },
 "nbformat": 4,
 "nbformat_minor": 2
}
